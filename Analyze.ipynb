{
 "cells": [
  {
   "cell_type": "markdown",
   "metadata": {},
   "source": [
    "## Preparation"
   ]
  },
  {
   "cell_type": "code",
   "execution_count": null,
   "metadata": {},
   "outputs": [],
   "source": [
    "from pathlib import Path\r\n",
    "import pandas as pd\r\n",
    "import matplotlib.pyplot as plt\r\n",
    "import matplotlib as mpl\r\n",
    "import collections as cl\r\n",
    "import math"
   ]
  },
  {
   "cell_type": "markdown",
   "metadata": {},
   "source": [
    "## Sensitivity Analysis Parameter"
   ]
  },
  {
   "cell_type": "code",
   "execution_count": null,
   "metadata": {},
   "outputs": [],
   "source": [
    "period_range = [1,3]+list(range(6,40,6))\r\n",
    "print(period_range)"
   ]
  },
  {
   "cell_type": "markdown",
   "metadata": {},
   "source": [
    "## Read results from CSV files"
   ]
  },
  {
   "cell_type": "markdown",
   "metadata": {},
   "source": [
    "### determine the variable for investigation"
   ]
  },
  {
   "cell_type": "markdown",
   "metadata": {},
   "source": [
    "### Declare important variables:\n",
    "Using a List for important variables such as:\n",
    "* Electricity Tariff\n",
    "* Budget Deficit\n",
    "* Utility Energy Sale\n",
    "* Consumer Numbers\n",
    "    1. Regular Consumers\n",
    "    2. Prosumers\n",
    "    3. Defectors \n",
    "    4. Total\n",
    "* Monthly Average Demand\n",
    "    1. Regular Consumers\n",
    "    2. Prosumers"
   ]
  },
  {
   "cell_type": "code",
   "execution_count": null,
   "metadata": {},
   "outputs": [],
   "source": [
    "important_vars=['Electricity Tariff','Budget Deficit', 'Utility Energy Sale','NPV PV','Total Consumers','Defectors','Regular Consumers','Prosumers','Regular Consumer Average Demand', 'Prosumer Average Demand','Regular Consumers Demand','Prosumers Demand']"
   ]
  },
  {
   "cell_type": "code",
   "execution_count": null,
   "metadata": {},
   "outputs": [],
   "source": [
    "select_result={v:pd.DataFrame() for v in important_vars}    \r\n",
    "for p in period_range:\r\n",
    "    result=pd.read_csv(f'./Outputs/period_{p}.csv',usecols=['TIME']+important_vars,squeeze=True,index_col=0,dtype='float64')\r\n",
    "    for v in important_vars:\r\n",
    "        select_result[v][p]=result[v]"
   ]
  },
  {
   "cell_type": "code",
   "execution_count": null,
   "metadata": {},
   "outputs": [],
   "source": [
    "mpl.rc('lines',linewidth=2)  \r\n",
    "n_rows= math.ceil(len(important_vars)/2)\r\n",
    "fig,ax =plt.subplots(n_rows,2,sharex=True)\r\n",
    "fig.set_size_inches(20,n_rows*5)\r\n",
    "for i,v in enumerate(important_vars):\r\n",
    "    cur_ax=ax[i//2,i%2]\r\n",
    "    select_result[v].plot(ax=cur_ax)\r\n",
    "    cur_ax.grid(True,linestyle='--')\r\n",
    "    cur_ax.title.set_text(v)\r\n",
    "    # if i in [0,1,3]:\r\n",
    "    #     cur_ax.set_yscale('symlog')"
   ]
  },
  {
   "cell_type": "markdown",
   "metadata": {},
   "source": [
    "## Differentiating the price time series"
   ]
  },
  {
   "cell_type": "code",
   "execution_count": null,
   "metadata": {},
   "outputs": [],
   "source": [
    "fig,ax = plt.subplots(len(step_range),len(period_range))\r\n",
    "fig.set_size_inches(len(period_range)*5,len(step_range)*5)\r\n",
    "for i,p in enumerate(period_range):\r\n",
    "    for j,s in enumerate(step_range):\r\n",
    "        y=price[p][s].to_numpy()\r\n",
    "        dif=[]\r\n",
    "        for k,sex in enumerate(y):\r\n",
    "            if (k-1)%(p/s)==0:\r\n",
    "                dif.append(y[k]-y[k-1])\r\n",
    "        ax[j,i].plot(dif)\r\n",
    "        ax[j,i].grid(True,linestyle='--')\r\n",
    "        ax[j,i].title.set_text(f'Time Step:{s}---tariff corr period:{p}')"
   ]
  }
 ],
 "metadata": {
  "kernelspec": {
   "display_name": "Python 3.9.1 64-bit",
   "name": "python391jvsc74a57bd0a2183a5ab792103744c4c9d4d8680b943b55eeeca7c7df36b2098464dbf464f0"
  },
  "language_info": {
   "codemirror_mode": {
    "name": "ipython",
    "version": 3
   },
   "file_extension": ".py",
   "mimetype": "text/x-python",
   "name": "python",
   "nbconvert_exporter": "python",
   "pygments_lexer": "ipython3",
   "version": "3.9.1"
  },
  "orig_nbformat": 2
 },
 "nbformat": 4,
 "nbformat_minor": 2
}