{
 "cells": [
  {
   "cell_type": "markdown",
   "source": [
    "## Preparation"
   ],
   "metadata": {}
  },
  {
   "cell_type": "code",
   "execution_count": null,
   "source": [
    "from pathlib import Path\r\n",
    "import pandas as pd\r\n",
    "import matplotlib.pyplot as plt\r\n",
    "import matplotlib as mpl\r\n",
    "import collections as cl\r\n",
    "import math\r\n",
    "from cycler import cycler\r\n",
    "import numpy as np"
   ],
   "outputs": [],
   "metadata": {}
  },
  {
   "cell_type": "markdown",
   "source": [
    "## Sensitivity Analysis Parameter"
   ],
   "metadata": {}
  },
  {
   "cell_type": "markdown",
   "source": [
    "## Read results from CSV files"
   ],
   "metadata": {}
  },
  {
   "cell_type": "markdown",
   "source": [
    "### determine the variable for investigation"
   ],
   "metadata": {}
  },
  {
   "cell_type": "markdown",
   "source": [
    "### Declare important variables:\n",
    "Using a List for important variables such as:\n",
    "* Electricity Tariff\n",
    "* Budget Deficit\n",
    "* Utility Energy Sale\n",
    "* Consumer Numbers\n",
    "    1. Regular Consumers\n",
    "    2. Prosumers\n",
    "    3. Defectors \n",
    "    4. Total\n",
    "* Monthly Average Demand\n",
    "    1. Regular Consumers\n",
    "    2. Prosumers"
   ],
   "metadata": {}
  },
  {
   "cell_type": "code",
   "execution_count": null,
   "source": [
    "directoryPath = Path.cwd().joinpath('Outputs')"
   ],
   "outputs": [],
   "metadata": {}
  },
  {
   "cell_type": "code",
   "execution_count": null,
   "source": [
    "params=pd.read_excel(directoryPath.joinpath('fitting_params_period.xlsx'))"
   ],
   "outputs": [],
   "metadata": {}
  },
  {
   "cell_type": "code",
   "execution_count": null,
   "source": [
    "mpl.rc('lines',linewidth=2)  \r\n",
    "mpl.rc('figure', figsize=(10, 6))"
   ],
   "outputs": [],
   "metadata": {}
  },
  {
   "cell_type": "code",
   "execution_count": null,
   "source": [
    "n_rows=len(params.columns)\r\n",
    "fig,ax = plt.subplots(n_rows)\r\n",
    "fig.set_size_inches(20,n_rows*5)\r\n",
    "for i,p in enumerate(params.columns):\r\n",
    "    ax[i].plot(params[p])\r\n",
    "    ax[i].set_title(p)\r\n"
   ],
   "outputs": [],
   "metadata": {}
  },
  {
   "cell_type": "code",
   "execution_count": null,
   "source": [
    "# important_vars=['Electricity Tariff','Budget Deficit', 'Utility Energy Sale','Total Costs','NPV PV','Total Consumers','Defectors','Regular Consumers','Prosumers','Regular Consumer Average Demand', 'Prosumer Average Demand']\r\n",
    "important_vars=['Electricity Tariff','Budget Deficit', 'Utility Energy Sale','Total Costs']"
   ],
   "outputs": [],
   "metadata": {}
  }
 ],
 "metadata": {
  "interpreter": {
   "hash": "a2183a5ab792103744c4c9d4d8680b943b55eeeca7c7df36b2098464dbf464f0"
  },
  "kernelspec": {
   "name": "python3",
   "display_name": "Python 3.9.1 64-bit"
  },
  "language_info": {
   "codemirror_mode": {
    "name": "ipython",
    "version": 3
   },
   "file_extension": ".py",
   "mimetype": "text/x-python",
   "name": "python",
   "nbconvert_exporter": "python",
   "pygments_lexer": "ipython3",
   "version": "3.9.1"
  },
  "orig_nbformat": 2
 },
 "nbformat": 4,
 "nbformat_minor": 2
}