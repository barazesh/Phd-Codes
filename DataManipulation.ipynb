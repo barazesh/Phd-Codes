{
 "metadata": {
  "language_info": {
   "codemirror_mode": {
    "name": "ipython",
    "version": 3
   },
   "file_extension": ".py",
   "mimetype": "text/x-python",
   "name": "python",
   "nbconvert_exporter": "python",
   "pygments_lexer": "ipython3",
   "version": "3.9.1-final"
  },
  "orig_nbformat": 2,
  "kernelspec": {
   "name": "python3",
   "display_name": "Python 3",
   "language": "python"
  }
 },
 "nbformat": 4,
 "nbformat_minor": 2,
 "cells": [
  {
   "cell_type": "code",
   "execution_count": null,
   "metadata": {},
   "outputs": [],
   "source": [
    "import pandas as pd\n",
    "import numpy as np\n",
    "import matplotlib\n",
    "from matplotlib import pyplot as plt\n",
    "from pathlib import Path"
   ]
  },
  {
   "cell_type": "code",
   "execution_count": 12,
   "metadata": {},
   "outputs": [],
   "source": [
    "data = {}\n",
    "for f in data_path.glob('*.csv'):\n",
    "    temp_total = pd.read_csv(str(f))\n",
    "    states_length = temp_total.shape[0]\n",
    "    data[f.stem]={}\n",
    "    for sec in sectors:\n",
    "        begin = sectors.index(sec)+2\n",
    "        x = range(begin, states_length, 7)\n",
    "        temp = temp_total.iloc[x]\n",
    "        states = [i[0].strip() for i in temp[\"description\"].str.split(\":\")]\n",
    "        temp[\"state\"] = states\n",
    "        temp.drop(axis=1, columns=temp.columns[range(0, 3)], inplace=True)\n",
    "        temp.set_index(\"state\", inplace=True)\n",
    "        for c in temp.columns:\n",
    "            temp[c] = pd.to_numeric(temp[c], errors=\"coerce\")\n",
    "        data[f.stem][sec] = temp.transpose()"
   ]
  },
  {
   "cell_type": "code",
   "execution_count": null,
   "metadata": {},
   "outputs": [],
   "source": [
    "sectors=[\"all\",\"residential\",\"commercial\",\"industrial\",\"transportation\",\"other\"]\n",
    "sales = pd.read_csv(\"./Data/Retail_sales_of_electricity.csv\")\n",
    "customers = pd.read_csv(\"./Data/Number_of_customer_accounts.csv\")\n",
    "# sales.shape[0]==customers.shape[0]\n",
    "file_length=sales.shape[0]"
   ]
  },
  {
   "cell_type": "code",
   "execution_count": null,
   "metadata": {},
   "outputs": [],
   "source": [
    "sales_data={}\n",
    "for sec in sectors:\n",
    "    begin = sectors.index(sec)+2\n",
    "    x = range(begin,file_length,7)\n",
    "    temp = sales.iloc[x]\n",
    "    temp[\"state\"]=[i[0].strip() for i in temp[\"description\"].str.split(\":\")]\n",
    "    temp.drop(axis=1, columns=temp.columns[range(0,3)],inplace=True)\n",
    "    temp.set_index(\"state\",inplace=True)\n",
    "    for c in temp.columns:\n",
    "        temp[c]=pd.to_numeric(temp[c],errors=\"coerce\")\n",
    "    sales_data[sec]=temp.transpose()"
   ]
  },
  {
   "cell_type": "code",
   "execution_count": null,
   "metadata": {},
   "outputs": [],
   "source": [
    "customers_data={}\n",
    "for sec in sectors:\n",
    "    begin = sectors.index(sec)+2\n",
    "    x = range(begin,file_length,7)\n",
    "    temp = customers.iloc[x]\n",
    "    temp[\"state\"]=[i[0].strip() for i in temp[\"description\"].str.split(\":\")]\n",
    "    temp.drop(axis=1, columns=temp.columns[range(0,3)],inplace=True)\n",
    "    temp.set_index(\"state\",inplace=True)\n",
    "    for c in temp.columns:\n",
    "        temp[c]=pd.to_numeric(temp[c],errors=\"coerce\")\n",
    "    customers_data[sec]=temp.transpose()"
   ]
  },
  {
   "cell_type": "code",
   "execution_count": null,
   "metadata": {},
   "outputs": [],
   "source": [
    "average_consumption={}\n",
    "for sec in sectors:\n",
    "    average_consumption[sec]=sales_data[sec]/customers_data[sec]"
   ]
  },
  {
   "cell_type": "code",
   "execution_count": null,
   "metadata": {},
   "outputs": [],
   "source": [
    "average_consumption[sectors[1]]['United States'].plot()"
   ]
  },
  {
   "cell_type": "code",
   "execution_count": null,
   "metadata": {},
   "outputs": [],
   "source": []
  }
 ]
}