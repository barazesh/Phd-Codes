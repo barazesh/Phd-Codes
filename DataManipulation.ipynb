{
 "cells": [
  {
   "cell_type": "code",
   "execution_count": 6,
   "metadata": {},
   "outputs": [],
   "source": [
    "import pandas as pd\n",
    "import numpy as np\n",
    "import matplotlib\n",
    "from matplotlib import pyplot as plt\n",
    "from pathlib import Path"
   ]
  },
  {
   "cell_type": "markdown",
   "metadata": {},
   "source": [
    "data = {}\r\n",
    "for f in data_path.glob('*.csv'):\r\n",
    "    temp_total = pd.read_csv(str(f))\r\n",
    "    states_length = temp_total.shape[0]\r\n",
    "    data[f.stem]={}\r\n",
    "    for sec in sectors:\r\n",
    "        begin = sectors.index(sec)+2\r\n",
    "        x = range(begin, states_length, 7)\r\n",
    "        temp = temp_total.iloc[x]\r\n",
    "        states = [i[0].strip() for i in temp[\"description\"].str.split(\":\")]\r\n",
    "        temp[\"state\"] = states\r\n",
    "        temp.drop(axis=1, columns=temp.columns[range(0, 3)], inplace=True)\r\n",
    "        temp.set_index(\"state\", inplace=True)\r\n",
    "        for c in temp.columns:\r\n",
    "            temp[c] = pd.to_numeric(temp[c], errors=\"coerce\")\r\n",
    "        data[f.stem][sec] = temp.transpose()"
   ]
  },
  {
   "cell_type": "markdown",
   "metadata": {},
   "source": [
    "sectors=[\"all\",\"residential\",\"commercial\",\"industrial\",\"transportation\",\"other\"]\r\n",
    "sales = pd.read_csv(\"./Data/Retail_sales_of_electricity.csv\")\r\n",
    "customers = pd.read_csv(\"./Data/Number_of_customer_accounts.csv\")\r\n",
    "# sales.shape[0]==customers.shape[0]\r\n",
    "file_length=sales.shape[0]"
   ]
  },
  {
   "cell_type": "markdown",
   "metadata": {},
   "source": [
    "sales_data={}\r\n",
    "for sec in sectors:\r\n",
    "    begin = sectors.index(sec)+2\r\n",
    "    x = range(begin,file_length,7)\r\n",
    "    temp = sales.iloc[x]\r\n",
    "    temp[\"state\"]=[i[0].strip() for i in temp[\"description\"].str.split(\":\")]\r\n",
    "    temp.drop(axis=1, columns=temp.columns[range(0,3)],inplace=True)\r\n",
    "    temp.set_index(\"state\",inplace=True)\r\n",
    "    for c in temp.columns:\r\n",
    "        temp[c]=pd.to_numeric(temp[c],errors=\"coerce\")\r\n",
    "    sales_data[sec]=temp.transpose()"
   ]
  },
  {
   "cell_type": "markdown",
   "metadata": {},
   "source": [
    "customers_data={}\r\n",
    "for sec in sectors:\r\n",
    "    begin = sectors.index(sec)+2\r\n",
    "    x = range(begin,file_length,7)\r\n",
    "    temp = customers.iloc[x]\r\n",
    "    temp[\"state\"]=[i[0].strip() for i in temp[\"description\"].str.split(\":\")]\r\n",
    "    temp.drop(axis=1, columns=temp.columns[range(0,3)],inplace=True)\r\n",
    "    temp.set_index(\"state\",inplace=True)\r\n",
    "    for c in temp.columns:\r\n",
    "        temp[c]=pd.to_numeric(temp[c],errors=\"coerce\")\r\n",
    "    customers_data[sec]=temp.transpose()"
   ]
  },
  {
   "cell_type": "markdown",
   "metadata": {},
   "source": [
    "average_consumption={}\r\n",
    "for sec in sectors:\r\n",
    "    average_consumption[sec]=sales_data[sec]/customers_data[sec]"
   ]
  },
  {
   "cell_type": "markdown",
   "metadata": {},
   "source": [
    "average_consumption[sectors[1]]['United States'].plot()"
   ]
  },
  {
   "cell_type": "code",
   "execution_count": 11,
   "metadata": {},
   "outputs": [],
   "source": [
    "df = pd.concat([pd.read_csv(f'./Outputs/Runge_Kutta/rk{i}.txt',delimiter='\\t') for i in range(1,7)], ignore_index=True).T\r\n",
    "df.columns=[s.split(':')[0].strip() for s in df.iloc[0]]\r\n",
    "df.drop(df.index[0],inplace=True)\r\n",
    "df.drop(df.tail(1).index,inplace=True)\r\n",
    "df=df.astype('float64')\r\n",
    "df.index=[float(i) for i in df.index]\r\n",
    "result=df.loc[:,~df.columns.duplicated()]\r\n"
   ]
  },
  {
   "cell_type": "code",
   "execution_count": 12,
   "metadata": {},
   "outputs": [
    {
     "name": "stdout",
     "output_type": "stream",
     "text": [
      "0.015625\n"
     ]
    }
   ],
   "source": [
    "index=6\r\n",
    "timestep=2**-index\r\n",
    "print(timestep)"
   ]
  },
  {
   "cell_type": "code",
   "execution_count": 13,
   "metadata": {},
   "outputs": [],
   "source": [
    "result.to_csv(f'./Outputs/Runge_kutta/rk_period_1_timestep_{timestep}.csv')"
   ]
  }
 ],
 "metadata": {
  "kernelspec": {
   "display_name": "Python 3.9.1 64-bit",
   "name": "python391jvsc74a57bd0a2183a5ab792103744c4c9d4d8680b943b55eeeca7c7df36b2098464dbf464f0"
  },
  "language_info": {
   "codemirror_mode": {
    "name": "ipython",
    "version": 3
   },
   "file_extension": ".py",
   "mimetype": "text/x-python",
   "name": "python",
   "nbconvert_exporter": "python",
   "pygments_lexer": "ipython3",
   "version": "3.9.1"
  },
  "orig_nbformat": 2
 },
 "nbformat": 4,
 "nbformat_minor": 2
}