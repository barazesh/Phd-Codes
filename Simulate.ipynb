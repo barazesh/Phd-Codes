{
 "cells": [
  {
   "cell_type": "markdown",
   "source": [
    "## Preparation"
   ],
   "metadata": {}
  },
  {
   "cell_type": "code",
   "execution_count": 1,
   "source": [
    "import pysd\r\n",
    "from pathlib import Path\r\n",
    "import pandas as pd\r\n",
    "import numpy as np\r\n",
    "from matplotlib import pyplot as plt\r\n",
    "import matplotlib as mpl"
   ],
   "outputs": [],
   "metadata": {}
  },
  {
   "cell_type": "markdown",
   "source": [
    "### Determine Directory"
   ],
   "metadata": {}
  },
  {
   "cell_type": "code",
   "execution_count": 2,
   "source": [
    "vensimDirectory='./Simulation Files/Prosumers & defectors'\r\n",
    "vensimFile ='net metering-no fixed tariff.mdl'\r\n",
    "filepath = Path(vensimDirectory,vensimFile)\r\n",
    "model = pysd.read_vensim(str(filepath))"
   ],
   "outputs": [],
   "metadata": {}
  },
  {
   "cell_type": "code",
   "execution_count": 3,
   "source": [
    "outputVariableList = ['effect of remaining time on change in electricity tariff','tariff correction remaining time']"
   ],
   "outputs": [],
   "metadata": {}
  },
  {
   "cell_type": "code",
   "execution_count": 4,
   "source": [
    "paramaters = {\r\n",
    "    'population growth rate': 1.4**(1/240)-1,\r\n",
    "    'time to adjust Prosumer Demand': 1,\r\n",
    "    'time to adjust Regular Consumer demand': 1,\r\n",
    "    'TIME STEP': 2**-10,\r\n",
    "    'SAVEPER': 2**-4,\r\n",
    "    'Tariff Correction Period': 12,\r\n",
    "    'price elasticity of prosumers': -0.2,\r\n",
    "    'price elasticity of regular consumers': -0.1,\r\n",
    "    'Initial Electricity Tariff': 0.15,\r\n",
    "    'PV Potential': 0.3,\r\n",
    "\r\n",
    "}\r\n",
    "\r\n",
    "result = model.run(params=paramaters, return_columns=outputVariableList)"
   ],
   "outputs": [],
   "metadata": {}
  },
  {
   "cell_type": "code",
   "execution_count": 5,
   "source": [
    "    mpl.rc('lines', linewidth=1.5, markersize=4)\r\n",
    "    mpl.rc('grid', linewidth=0.5, linestyle='--')\r\n",
    "    mpl.rc('font', size=7, family='Times New Roman')\r\n",
    "    mpl.rc('text',usetex=False)\r\n",
    "    cm = 1/2.54\r\n",
    "    mpl.rc('figure', figsize=(9*cm, 6*cm))\r\n"
   ],
   "outputs": [],
   "metadata": {}
  },
  {
   "cell_type": "code",
   "execution_count": 8,
   "source": [
    "fig,ax=plt.subplots(2,1,sharex=True)\r\n",
    "for i,c in enumerate(result.columns):\r\n",
    "    ax[i].plot(result.loc[:60,c],c='k')\r\n",
    "    ax[i].set_xticks([x for x in range(0,61,12)])\r\n",
    "    ax[i].set_xticklabels([f'{x}i' for x in range(6)])\r\n",
    "\r\n",
    "ax[0].set_title(r'$ \\xi(t,i) $')\r\n",
    "ax[1].set_title(r'$ \\rho(t,i) $')\r\n",
    "fig.tight_layout(h_pad=1)\r\n",
    "plt.savefig('chart.pdf',bbox_inches='tight')"
   ],
   "outputs": [
    {
     "output_type": "display_data",
     "data": {
      "text/plain": [
       "<Figure size 255.118x170.079 with 2 Axes>"
      ],
      "image/png": "[encoded data removed]"
     },
     "metadata": {
      "needs_background": "light"
     }
    }
   ],
   "metadata": {}
  },
  {
   "cell_type": "code",
   "execution_count": 7,
   "source": [
    "constants = variables.loc[variables[\"Type\"]=='constant',['Real Name', 'Eqn','Unit']]\r\n",
    "constants.loc[:,'Eqn']=constants.loc[:,'Eqn'].apply(lambda x: str(x)[2:-1])\r\n",
    "constants.loc[:,'Unit']=constants.loc[:,'Unit'].apply(lambda x: str(x)[2:-1])\r\n",
    "constants.columns=['Parameter','Value','Unit']\r\n",
    "print(constants)"
   ],
   "outputs": [
    {
     "output_type": "error",
     "ename": "NameError",
     "evalue": "name 'variables' is not defined",
     "traceback": [
      "\u001b[1;31m---------------------------------------------------------------------------\u001b[0m",
      "\u001b[1;31mNameError\u001b[0m                                 Traceback (most recent call last)",
      "\u001b[1;32m<ipython-input-7-6653257f192d>\u001b[0m in \u001b[0;36m<module>\u001b[1;34m\u001b[0m\n\u001b[1;32m----> 1\u001b[1;33m \u001b[0mconstants\u001b[0m \u001b[1;33m=\u001b[0m \u001b[0mvariables\u001b[0m\u001b[1;33m.\u001b[0m\u001b[0mloc\u001b[0m\u001b[1;33m[\u001b[0m\u001b[0mvariables\u001b[0m\u001b[1;33m[\u001b[0m\u001b[1;34m\"Type\"\u001b[0m\u001b[1;33m]\u001b[0m\u001b[1;33m==\u001b[0m\u001b[1;34m'constant'\u001b[0m\u001b[1;33m,\u001b[0m\u001b[1;33m[\u001b[0m\u001b[1;34m'Real Name'\u001b[0m\u001b[1;33m,\u001b[0m \u001b[1;34m'Eqn'\u001b[0m\u001b[1;33m,\u001b[0m\u001b[1;34m'Unit'\u001b[0m\u001b[1;33m]\u001b[0m\u001b[1;33m]\u001b[0m\u001b[1;33m\u001b[0m\u001b[1;33m\u001b[0m\u001b[0m\n\u001b[0m\u001b[0;32m      2\u001b[0m \u001b[0mconstants\u001b[0m\u001b[1;33m.\u001b[0m\u001b[0mloc\u001b[0m\u001b[1;33m[\u001b[0m\u001b[1;33m:\u001b[0m\u001b[1;33m,\u001b[0m\u001b[1;34m'Eqn'\u001b[0m\u001b[1;33m]\u001b[0m\u001b[1;33m=\u001b[0m\u001b[0mconstants\u001b[0m\u001b[1;33m.\u001b[0m\u001b[0mloc\u001b[0m\u001b[1;33m[\u001b[0m\u001b[1;33m:\u001b[0m\u001b[1;33m,\u001b[0m\u001b[1;34m'Eqn'\u001b[0m\u001b[1;33m]\u001b[0m\u001b[1;33m.\u001b[0m\u001b[0mapply\u001b[0m\u001b[1;33m(\u001b[0m\u001b[1;32mlambda\u001b[0m \u001b[0mx\u001b[0m\u001b[1;33m:\u001b[0m \u001b[0mstr\u001b[0m\u001b[1;33m(\u001b[0m\u001b[0mx\u001b[0m\u001b[1;33m)\u001b[0m\u001b[1;33m[\u001b[0m\u001b[1;36m2\u001b[0m\u001b[1;33m:\u001b[0m\u001b[1;33m-\u001b[0m\u001b[1;36m1\u001b[0m\u001b[1;33m]\u001b[0m\u001b[1;33m)\u001b[0m\u001b[1;33m\u001b[0m\u001b[1;33m\u001b[0m\u001b[0m\n\u001b[0;32m      3\u001b[0m \u001b[0mconstants\u001b[0m\u001b[1;33m.\u001b[0m\u001b[0mloc\u001b[0m\u001b[1;33m[\u001b[0m\u001b[1;33m:\u001b[0m\u001b[1;33m,\u001b[0m\u001b[1;34m'Unit'\u001b[0m\u001b[1;33m]\u001b[0m\u001b[1;33m=\u001b[0m\u001b[0mconstants\u001b[0m\u001b[1;33m.\u001b[0m\u001b[0mloc\u001b[0m\u001b[1;33m[\u001b[0m\u001b[1;33m:\u001b[0m\u001b[1;33m,\u001b[0m\u001b[1;34m'Unit'\u001b[0m\u001b[1;33m]\u001b[0m\u001b[1;33m.\u001b[0m\u001b[0mapply\u001b[0m\u001b[1;33m(\u001b[0m\u001b[1;32mlambda\u001b[0m \u001b[0mx\u001b[0m\u001b[1;33m:\u001b[0m \u001b[0mstr\u001b[0m\u001b[1;33m(\u001b[0m\u001b[0mx\u001b[0m\u001b[1;33m)\u001b[0m\u001b[1;33m[\u001b[0m\u001b[1;36m2\u001b[0m\u001b[1;33m:\u001b[0m\u001b[1;33m-\u001b[0m\u001b[1;36m1\u001b[0m\u001b[1;33m]\u001b[0m\u001b[1;33m)\u001b[0m\u001b[1;33m\u001b[0m\u001b[1;33m\u001b[0m\u001b[0m\n\u001b[0;32m      4\u001b[0m \u001b[0mconstants\u001b[0m\u001b[1;33m.\u001b[0m\u001b[0mcolumns\u001b[0m\u001b[1;33m=\u001b[0m\u001b[1;33m[\u001b[0m\u001b[1;34m'Parameter'\u001b[0m\u001b[1;33m,\u001b[0m\u001b[1;34m'Value'\u001b[0m\u001b[1;33m,\u001b[0m\u001b[1;34m'Unit'\u001b[0m\u001b[1;33m]\u001b[0m\u001b[1;33m\u001b[0m\u001b[1;33m\u001b[0m\u001b[0m\n\u001b[0;32m      5\u001b[0m \u001b[0mprint\u001b[0m\u001b[1;33m(\u001b[0m\u001b[0mconstants\u001b[0m\u001b[1;33m)\u001b[0m\u001b[1;33m\u001b[0m\u001b[1;33m\u001b[0m\u001b[0m\n",
      "\u001b[1;31mNameError\u001b[0m: name 'variables' is not defined"
     ]
    }
   ],
   "metadata": {}
  }
 ],
 "metadata": {
  "interpreter": {
   "hash": "a2183a5ab792103744c4c9d4d8680b943b55eeeca7c7df36b2098464dbf464f0"
  },
  "kernelspec": {
   "name": "python3",
   "display_name": "Python 3.9.1 64-bit"
  },
  "language_info": {
   "codemirror_mode": {
    "name": "ipython",
    "version": 3
   },
   "file_extension": ".py",
   "mimetype": "text/x-python",
   "name": "python",
   "nbconvert_exporter": "python",
   "pygments_lexer": "ipython3",
   "version": "3.9.1"
  },
  "orig_nbformat": 2
 },
 "nbformat": 4,
 "nbformat_minor": 2
}