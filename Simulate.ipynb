{
 "cells": [
  {
   "cell_type": "markdown",
   "metadata": {},
   "source": [
    "## Preparation"
   ]
  },
  {
   "cell_type": "code",
   "execution_count": 12,
   "metadata": {},
   "outputs": [],
   "source": [
    "import pysd\r\n",
    "from pathlib import Path\r\n",
    "import pandas as pd\r\n",
    "import numpy as np"
   ]
  },
  {
   "cell_type": "markdown",
   "metadata": {},
   "source": [
    "### Determine Directory"
   ]
  },
  {
   "cell_type": "code",
   "execution_count": 13,
   "metadata": {},
   "outputs": [],
   "source": [
    "vensimDirectory='./Simulation Files/Prosumers & defectors'\r\n",
    "vensimFile ='net metering-no fixed tariff.mdl'\r\n",
    "filepath = Path(vensimDirectory,vensimFile)\r\n",
    "model = pysd.read_vensim(str(filepath))"
   ]
  },
  {
   "cell_type": "code",
   "execution_count": 14,
   "metadata": {},
   "outputs": [
    {
     "data": {
      "text/plain": "True"
     },
     "execution_count": 14,
     "metadata": {},
     "output_type": "execute_result"
    }
   ],
   "source": [
    "variables = model.doc()\r\n",
    "varname ='Total Costs'\r\n",
    "any(variables[\"Real Name\"]==varname)"
   ]
  },
  {
   "cell_type": "code",
   "execution_count": 15,
   "metadata": {},
   "outputs": [],
   "source": [
    "outputVariableList=['Regular Consumers','Prosumers','Defectors','Total Consumers'\r\n",
    ",'PV Cost','NPV PV','Battery Cost','Direct Defection NPV',\r\n",
    "'Prosumer Average Demand','Regular Consumer Average Demand'\r\n",
    ",'Budget Deficit','Electricity Tariff','Monthly Income Shortfall','change in electricity tariff','Utility Energy Sale','Total Costs']"
   ]
  },
  {
   "cell_type": "markdown",
   "metadata": {},
   "source": [
    "### Parameters"
   ]
  },
  {
   "cell_type": "code",
   "execution_count": 16,
   "metadata": {},
   "outputs": [
    {
     "data": {
      "text/plain": "1.0014029508686633"
     },
     "execution_count": 16,
     "metadata": {},
     "output_type": "execute_result"
    }
   ],
   "source": [
    "1.4**(1/240)"
   ]
  },
  {
   "cell_type": "code",
   "execution_count": 17,
   "metadata": {},
   "outputs": [
    {
     "data": {
      "text/plain": "1.03659998028813"
     },
     "execution_count": 17,
     "metadata": {},
     "output_type": "execute_result"
    }
   ],
   "source": [
    "1.003**12"
   ]
  },
  {
   "cell_type": "code",
   "execution_count": 23,
   "metadata": {},
   "outputs": [],
   "source": [
    "time_step=2**-10\r\n",
    "save_step=2**-4\r\n",
    "paramaters={\r\n",
    "    # 'population growth rate':1.4**(1/240)-1,\r\n",
    "    'time to adjust Prosumer Demand':1,\r\n",
    "    'time to adjust Regular Consumer demand':1,\r\n",
    "    'TIME STEP': time_step,\r\n",
    "    'SAVEPER':save_step,\r\n",
    "    'Tariff Correction Period':12\r\n",
    "    # 'price elasticity of prosumers':0,\r\n",
    "    # 'price elasticity of regular consumers':0\r\n",
    "}"
   ]
  },
  {
   "cell_type": "markdown",
   "metadata": {},
   "source": [
    "## Sensitivity Analysis Parameter"
   ]
  },
  {
   "cell_type": "code",
   "execution_count": 24,
   "metadata": {},
   "outputs": [
    {
     "name": "stdout",
     "output_type": "stream",
     "text": [
      "[0.0, 0.00039720461405434726, 0.0007599617780402745, 0.001093782179180991, 0.0014029508686632663, 0.001690865854750312, 0.0019602672718925795, 0.002213397000652817, 0.002452112626211811, 0.002677970566681065, 0.0028922878693671272, 0.003096188925133081, 0.0032906413135083135, 0.0034764836791751907, 0.00365444767563905, 0.0038251754297564666, 0.0039892335814766255, 0.004147124674473757, 0.004299296475809067, 0.0044461496606929]\n"
     ]
    }
   ],
   "source": [
    "sensitivity_range = [(1+s)**(1/240)-1 for s in np.arange(0,2,0.1)]\r\n",
    "print(sensitivity_range)"
   ]
  },
  {
   "cell_type": "code",
   "execution_count": 20,
   "metadata": {},
   "outputs": [
    {
     "name": "stdout",
     "output_type": "stream",
     "text": [
      "[1, 3, 6, 12, 18, 24, 30, 36]\n"
     ]
    }
   ],
   "source": [
    "sensitivity_range = [1,3]+list(range(6,40,6))\r\n",
    "print(sensitivity_range)"
   ]
  },
  {
   "cell_type": "markdown",
   "metadata": {},
   "source": [
    "## Simulation\r\n",
    "run the model and save the result in a CSV file"
   ]
  },
  {
   "cell_type": "code",
   "execution_count": 25,
   "metadata": {},
   "outputs": [
    {
     "name": "stdout",
     "output_type": "stream",
     "text": [
      "0.0\n",
      "0.00039720461405434726\n",
      "0.0007599617780402745\n",
      "0.001093782179180991\n",
      "0.0014029508686632663\n",
      "0.001690865854750312\n",
      "0.0019602672718925795\n",
      "0.002213397000652817\n",
      "0.002452112626211811\n",
      "0.002677970566681065\n",
      "0.0028922878693671272\n",
      "0.003096188925133081\n",
      "0.0032906413135083135\n",
      "0.0034764836791751907\n",
      "0.00365444767563905\n",
      "0.0038251754297564666\n",
      "0.0039892335814766255\n",
      "0.004147124674473757\n",
      "0.004299296475809067\n",
      "0.0044461496606929\n"
     ]
    }
   ],
   "source": [
    "for s in sensitivity_range:\r\n",
    "    print(s)\r\n",
    "    result = model.run(params={**paramaters, 'population growth rate':s },return_columns=outputVariableList)\r\n",
    "    result.to_csv(f'./Outputs/populationGrowth_{s}.csv')"
   ]
  }
 ],
 "metadata": {
  "kernelspec": {
   "display_name": "Python 3.9.1 64-bit",
   "name": "python391jvsc74a57bd0a2183a5ab792103744c4c9d4d8680b943b55eeeca7c7df36b2098464dbf464f0"
  },
  "language_info": {
   "codemirror_mode": {
    "name": "ipython",
    "version": 3
   },
   "file_extension": ".py",
   "mimetype": "text/x-python",
   "name": "python",
   "nbconvert_exporter": "python",
   "pygments_lexer": "ipython3",
   "version": "3.9.1"
  },
  "orig_nbformat": 2
 },
 "nbformat": 4,
 "nbformat_minor": 2
}