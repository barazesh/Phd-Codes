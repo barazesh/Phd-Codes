{
 "cells": [
  {
   "cell_type": "markdown",
   "metadata": {},
   "source": [
    "## Preparation"
   ]
  },
  {
   "cell_type": "code",
   "execution_count": 1,
   "metadata": {},
   "outputs": [],
   "source": [
    "import pysd\r\n",
    "from pathlib import Path\r\n",
    "import pandas as pd"
   ]
  },
  {
   "cell_type": "markdown",
   "metadata": {},
   "source": [
    "### Determine Directory"
   ]
  },
  {
   "cell_type": "code",
   "execution_count": 2,
   "metadata": {},
   "outputs": [],
   "source": [
    "vensimDirectory='./Simulation Files/Prosumers & defectors'\r\n",
    "vensimFile ='net metering-no fixed tariff.mdl'\r\n",
    "filepath = Path(vensimDirectory,vensimFile)\r\n",
    "model = pysd.read_vensim(str(filepath))"
   ]
  },
  {
   "cell_type": "markdown",
   "metadata": {},
   "source": [
    "### Parameters"
   ]
  },
  {
   "cell_type": "code",
   "execution_count": 3,
   "metadata": {},
   "outputs": [],
   "source": [
    "time_step=2**-10\r\n",
    "paramaters={\r\n",
    "    'population growth rate':0.001,\r\n",
    "    'time to adjust Prosumer Demand':1,\r\n",
    "    'time to adjust Regular Consumer demand':1,\r\n",
    "    'TIME STEP': time_step,\r\n",
    "    # 'price elasticity of prosumers':0,\r\n",
    "    # 'price elasticity of regular consumers':0\r\n",
    "}"
   ]
  },
  {
   "cell_type": "markdown",
   "metadata": {},
   "source": [
    "## Sensitivity Analysis Parameter"
   ]
  },
  {
   "cell_type": "code",
   "execution_count": 4,
   "metadata": {},
   "outputs": [
    {
     "name": "stdout",
     "output_type": "stream",
     "text": [
      "[1, 3, 6, 12, 18, 24, 30, 36]\n"
     ]
    }
   ],
   "source": [
    "period = [1,3]+list(range(6,40,6))\r\n",
    "print(period)"
   ]
  },
  {
   "cell_type": "markdown",
   "metadata": {},
   "source": [
    "## Simulation\r\n",
    "run the model and save the result in a CSV file"
   ]
  },
  {
   "cell_type": "code",
   "execution_count": 5,
   "metadata": {},
   "outputs": [],
   "source": [
    "for p in period:\r\n",
    "    result = model.run(params={**paramaters, 'Tariff Correction Period':p })\r\n",
    "    result.to_csv(f'./Outputs/period_{p}.csv')"
   ]
  }
 ],
 "metadata": {
  "kernelspec": {
   "display_name": "Python 3.9.1 64-bit",
   "name": "python391jvsc74a57bd0a2183a5ab792103744c4c9d4d8680b943b55eeeca7c7df36b2098464dbf464f0"
  },
  "language_info": {
   "codemirror_mode": {
    "name": "ipython",
    "version": 3
   },
   "file_extension": ".py",
   "mimetype": "text/x-python",
   "name": "python",
   "nbconvert_exporter": "python",
   "pygments_lexer": "ipython3",
   "version": "3.9.1"
  },
  "orig_nbformat": 2
 },
 "nbformat": 4,
 "nbformat_minor": 2
}